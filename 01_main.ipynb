{
 "cells": [
  {
   "cell_type": "code",
   "execution_count": null,
   "metadata": {},
   "outputs": [
    {
     "ename": "NameError",
     "evalue": "name 'pd' is not defined",
     "output_type": "error",
     "traceback": [
      "\u001b[1;31m---------------------------------------------------------------------------\u001b[0m",
      "\u001b[1;31mNameError\u001b[0m                                 Traceback (most recent call last)",
      "\u001b[1;32mc:\\Users\\KevinKeipert\\Desktop\\celverapi\\01_main.ipynb Cell 1'\u001b[0m in \u001b[0;36m<cell line: 4>\u001b[1;34m()\u001b[0m\n\u001b[0;32m      <a href='vscode-notebook-cell:/c%3A/Users/KevinKeipert/Desktop/celverapi/01_main.ipynb#ch0000000?line=0'>1</a>\u001b[0m \u001b[39mimport\u001b[39;00m \u001b[39mpandas\u001b[39;00m \u001b[39mas\u001b[39;00m \u001b[39mpd\u001b[39;00m\n\u001b[0;32m      <a href='vscode-notebook-cell:/c%3A/Users/KevinKeipert/Desktop/celverapi/01_main.ipynb#ch0000000?line=1'>2</a>\u001b[0m \u001b[39mimport\u001b[39;00m \u001b[39mconcurrent\u001b[39;00m\u001b[39m.\u001b[39;00m\u001b[39mfutures\u001b[39;00m \n\u001b[1;32m----> <a href='vscode-notebook-cell:/c%3A/Users/KevinKeipert/Desktop/celverapi/01_main.ipynb#ch0000000?line=3'>4</a>\u001b[0m \u001b[39mfrom\u001b[39;00m \u001b[39mcelverapi\u001b[39;00m\u001b[39m.\u001b[39;00m\u001b[39mcore\u001b[39;00m \u001b[39mimport\u001b[39;00m \u001b[39m*\u001b[39m\n",
      "File \u001b[1;32mc:\\Users\\KevinKeipert\\Desktop\\celverapi\\celverapi\\core.py:7\u001b[0m, in \u001b[0;36m<module>\u001b[1;34m\u001b[0m\n\u001b[0;32m      <a href='file:///c%3A/Users/KevinKeipert/Desktop/celverapi/celverapi/core.py?line=2'>3</a>\u001b[0m __all__ \u001b[39m=\u001b[39m [\u001b[39m'\u001b[39m\u001b[39mTimeSeries\u001b[39m\u001b[39m'\u001b[39m, \u001b[39m'\u001b[39m\u001b[39mTimeseriesModel\u001b[39m\u001b[39m'\u001b[39m, \u001b[39m'\u001b[39m\u001b[39mNaiveForecast\u001b[39m\u001b[39m'\u001b[39m, \u001b[39m'\u001b[39m\u001b[39mTrendForecast\u001b[39m\u001b[39m'\u001b[39m, \u001b[39m'\u001b[39m\u001b[39mForecastingTask\u001b[39m\u001b[39m'\u001b[39m]\n\u001b[0;32m      <a href='file:///c%3A/Users/KevinKeipert/Desktop/celverapi/celverapi/core.py?line=4'>5</a>\u001b[0m \u001b[39m# Cell\u001b[39;00m\n\u001b[1;32m----> <a href='file:///c%3A/Users/KevinKeipert/Desktop/celverapi/celverapi/core.py?line=6'>7</a>\u001b[0m \u001b[39mclass\u001b[39;00m \u001b[39mTimeSeries\u001b[39;00m():\n\u001b[0;32m      <a href='file:///c%3A/Users/KevinKeipert/Desktop/celverapi/celverapi/core.py?line=7'>8</a>\u001b[0m     \u001b[39m\"\u001b[39m\u001b[39mThe Timeseries objects has 4 attributes\u001b[39m\u001b[39m\"\u001b[39m\n\u001b[0;32m      <a href='file:///c%3A/Users/KevinKeipert/Desktop/celverapi/celverapi/core.py?line=8'>9</a>\u001b[0m     \u001b[39m\"\u001b[39m\u001b[39mdata is the DataFrame of the Timeserie\u001b[39m\u001b[39m\"\u001b[39m\n",
      "File \u001b[1;32mc:\\Users\\KevinKeipert\\Desktop\\celverapi\\celverapi\\core.py:13\u001b[0m, in \u001b[0;36mTimeSeries\u001b[1;34m()\u001b[0m\n\u001b[0;32m     <a href='file:///c%3A/Users/KevinKeipert/Desktop/celverapi/celverapi/core.py?line=9'>10</a>\u001b[0m \u001b[39m\"\u001b[39m\u001b[39mdate_col is the column of the DataFrame where the date is\u001b[39m\u001b[39m\"\u001b[39m\n\u001b[0;32m     <a href='file:///c%3A/Users/KevinKeipert/Desktop/celverapi/celverapi/core.py?line=10'>11</a>\u001b[0m \u001b[39m\"\u001b[39m\u001b[39mvalue_col is the column of the DataFrame wehre the Qty is\u001b[39m\u001b[39m\"\u001b[39m\n\u001b[1;32m---> <a href='file:///c%3A/Users/KevinKeipert/Desktop/celverapi/celverapi/core.py?line=12'>13</a>\u001b[0m \u001b[39mdef\u001b[39;00m \u001b[39m__init__\u001b[39m(\u001b[39mself\u001b[39m, data: pd\u001b[39m.\u001b[39mDataFrame, date_col: \u001b[39mstr\u001b[39m, id_col: \u001b[39mstr\u001b[39m, value_col: \u001b[39mstr\u001b[39m):\n\u001b[0;32m     <a href='file:///c%3A/Users/KevinKeipert/Desktop/celverapi/celverapi/core.py?line=14'>15</a>\u001b[0m     \u001b[39mself\u001b[39m\u001b[39m.\u001b[39mdata \u001b[39m=\u001b[39m data\n\u001b[0;32m     <a href='file:///c%3A/Users/KevinKeipert/Desktop/celverapi/celverapi/core.py?line=15'>16</a>\u001b[0m     \u001b[39mself\u001b[39m\u001b[39m.\u001b[39mdate_col \u001b[39m=\u001b[39m date_col\n",
      "\u001b[1;31mNameError\u001b[0m: name 'pd' is not defined"
     ]
    }
   ],
   "source": []
  },
  {
   "cell_type": "code",
   "execution_count": null,
   "metadata": {},
   "outputs": [],
   "source": []
  }
 ],
 "metadata": {
  "kernelspec": {
   "display_name": "Python 3.9.7 ('base')",
   "language": "python",
   "name": "python3"
  }
 },
 "nbformat": 4,
 "nbformat_minor": 2
}
