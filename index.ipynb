{
 "cells": [
  {
   "cell_type": "markdown",
   "metadata": {},
   "source": [
    "# celverapi\n",
    "\n",
    "> Library that allows the user to forecast multipletime Timeseries, parallel, using multiprocessing "
   ]
  },
  {
   "cell_type": "markdown",
   "metadata": {},
   "source": [
    "## Install"
   ]
  },
  {
   "cell_type": "markdown",
   "metadata": {},
   "source": [
    "`pip install celverapi`"
   ]
  },
  {
   "cell_type": "markdown",
   "metadata": {},
   "source": [
    "## How to use the Forecasting API "
   ]
  },
  {
   "cell_type": "markdown",
   "metadata": {},
   "source": [
    "In this example we are going to use a DataFrame from 4 different grocery stores. \n",
    "The idea is to Forecast various models, from every single store, simultaneously "
   ]
  },
  {
   "cell_type": "code",
   "execution_count": null,
   "metadata": {},
   "outputs": [],
   "source": [
    "from celverapi.core import *\n",
    "from celverapi.main import *\n",
    "import pandas as pd"
   ]
  },
  {
   "cell_type": "code",
   "execution_count": null,
   "metadata": {},
   "outputs": [],
   "source": [
    "df = pd.read_parquet('Data/example.parquet')\n",
    "#df.head(10)"
   ]
  },
  {
   "cell_type": "markdown",
   "metadata": {},
   "source": [
    "Using the function unique_dataframe_values(), we are going to create a list of DataFrames from every unique ID value in the Main DataFrame. \n",
    "In this case, we need a DataFrame from every Store."
   ]
  },
  {
   "cell_type": "code",
   "execution_count": null,
   "metadata": {},
   "outputs": [
    {
     "data": {
      "text/plain": [
       "[            date  store_nbr     family   sales  onpromotion\n",
       " 0     2013-01-01          6  GROCERY I     0.0          0.0\n",
       " 4     2013-01-02          6  GROCERY I  5535.0          0.0\n",
       " 8     2013-01-03          6  GROCERY I  4040.0          0.0\n",
       " 12    2013-01-04          6  GROCERY I  3314.0          0.0\n",
       " 16    2013-01-05          6  GROCERY I  4857.0          0.0\n",
       " ...          ...        ...        ...     ...          ...\n",
       " 6716  2017-08-11          6  GROCERY I  4466.0        776.0\n",
       " 6720  2017-08-12          6  GROCERY I  4027.0        770.0\n",
       " 6724  2017-08-13          6  GROCERY I  5481.0        817.0\n",
       " 6728  2017-08-14          6  GROCERY I  4142.0        773.0\n",
       " 6732  2017-08-15          6  GROCERY I  4334.0        779.0\n",
       " \n",
       " [1684 rows x 5 columns],\n",
       "             date  store_nbr     family   sales  onpromotion\n",
       " 1     2013-01-01          7  GROCERY I     0.0          0.0\n",
       " 5     2013-01-02          7  GROCERY I  4172.0          0.0\n",
       " 9     2013-01-03          7  GROCERY I  3279.0          0.0\n",
       " 13    2013-01-04          7  GROCERY I  2681.0          0.0\n",
       " 17    2013-01-05          7  GROCERY I  2662.0          0.0\n",
       " ...          ...        ...        ...     ...          ...\n",
       " 6717  2017-08-11          7  GROCERY I  3146.0        695.0\n",
       " 6721  2017-08-12          7  GROCERY I  2851.0        723.0\n",
       " 6725  2017-08-13          7  GROCERY I  2864.0        675.0\n",
       " 6729  2017-08-14          7  GROCERY I  3872.0        744.0\n",
       " 6733  2017-08-15          7  GROCERY I  3678.0        737.0\n",
       " \n",
       " [1684 rows x 5 columns],\n",
       "             date  store_nbr     family   sales  onpromotion\n",
       " 2     2013-01-01          8  GROCERY I     0.0          0.0\n",
       " 6     2013-01-02          8  GROCERY I  5277.0          0.0\n",
       " 10    2013-01-03          8  GROCERY I  3783.0          0.0\n",
       " 14    2013-01-04          8  GROCERY I  3481.0          0.0\n",
       " 18    2013-01-05          8  GROCERY I  4857.0          0.0\n",
       " ...          ...        ...        ...     ...          ...\n",
       " 6718  2017-08-11          8  GROCERY I  4318.0        801.0\n",
       " 6722  2017-08-12          8  GROCERY I  4734.0        814.0\n",
       " 6726  2017-08-13          8  GROCERY I  5050.0        842.0\n",
       " 6730  2017-08-14          8  GROCERY I  4354.0        807.0\n",
       " 6734  2017-08-15          8  GROCERY I  4035.0        786.0\n",
       " \n",
       " [1684 rows x 5 columns],\n",
       "             date  store_nbr     family     sales  onpromotion\n",
       " 3     2013-01-01          9  GROCERY I     0.000          0.0\n",
       " 7     2013-01-02          9  GROCERY I  7718.000          0.0\n",
       " 11    2013-01-03          9  GROCERY I  4547.000          0.0\n",
       " 15    2013-01-04          9  GROCERY I  3564.000          0.0\n",
       " 19    2013-01-05          9  GROCERY I  5951.000          0.0\n",
       " ...          ...        ...        ...       ...          ...\n",
       " 6719  2017-08-11          9  GROCERY I  5882.578        784.0\n",
       " 6723  2017-08-12          9  GROCERY I  6686.109        804.0\n",
       " 6727  2017-08-13          9  GROCERY I  6711.156        800.0\n",
       " 6731  2017-08-14          9  GROCERY I  5860.789        773.0\n",
       " 6735  2017-08-15          9  GROCERY I  6630.383        780.0\n",
       " \n",
       " [1684 rows x 5 columns]]"
      ]
     },
     "execution_count": null,
     "metadata": {},
     "output_type": "execute_result"
    }
   ],
   "source": [
    "list_of_DataFrames = unique_dataframe_values('store_nbr')\n",
    "list_of_DataFrames"
   ]
  },
  {
   "cell_type": "markdown",
   "metadata": {},
   "source": [
    "Once we have a list with the DataFrames that we want to work with, we are going to proceed splitting them into a Train and Test DataFrame.\n",
    "In this case the Train DF is going to be from the Start Date until the 31-07-2017."
   ]
  },
  {
   "cell_type": "code",
   "execution_count": null,
   "metadata": {},
   "outputs": [
    {
     "data": {
      "text/plain": [
       "[            date  store_nbr     family   sales  onpromotion\n",
       " 0     2013-01-01          6  GROCERY I     0.0          0.0\n",
       " 4     2013-01-02          6  GROCERY I  5535.0          0.0\n",
       " 8     2013-01-03          6  GROCERY I  4040.0          0.0\n",
       " 12    2013-01-04          6  GROCERY I  3314.0          0.0\n",
       " 16    2013-01-05          6  GROCERY I  4857.0          0.0\n",
       " ...          ...        ...        ...     ...          ...\n",
       " 6656  2017-07-27          6  GROCERY I  3820.0        765.0\n",
       " 6660  2017-07-28          6  GROCERY I  4602.0        807.0\n",
       " 6664  2017-07-29          6  GROCERY I  6050.0        817.0\n",
       " 6668  2017-07-30          6  GROCERY I  6664.0        840.0\n",
       " 6672  2017-07-31          6  GROCERY I  5237.0        806.0\n",
       " \n",
       " [1669 rows x 5 columns],\n",
       "             date  store_nbr     family   sales  onpromotion\n",
       " 1     2013-01-01          7  GROCERY I     0.0          0.0\n",
       " 5     2013-01-02          7  GROCERY I  4172.0          0.0\n",
       " 9     2013-01-03          7  GROCERY I  3279.0          0.0\n",
       " 13    2013-01-04          7  GROCERY I  2681.0          0.0\n",
       " 17    2013-01-05          7  GROCERY I  2662.0          0.0\n",
       " ...          ...        ...        ...     ...          ...\n",
       " 6657  2017-07-27          7  GROCERY I  3552.0        682.0\n",
       " 6661  2017-07-28          7  GROCERY I  3930.0        721.0\n",
       " 6665  2017-07-29          7  GROCERY I  3320.0        704.0\n",
       " 6669  2017-07-30          7  GROCERY I  3776.0        711.0\n",
       " 6673  2017-07-31          7  GROCERY I  4401.0        754.0\n",
       " \n",
       " [1669 rows x 5 columns],\n",
       "             date  store_nbr     family   sales  onpromotion\n",
       " 2     2013-01-01          8  GROCERY I     0.0          0.0\n",
       " 6     2013-01-02          8  GROCERY I  5277.0          0.0\n",
       " 10    2013-01-03          8  GROCERY I  3783.0          0.0\n",
       " 14    2013-01-04          8  GROCERY I  3481.0          0.0\n",
       " 18    2013-01-05          8  GROCERY I  4857.0          0.0\n",
       " ...          ...        ...        ...     ...          ...\n",
       " 6658  2017-07-27          8  GROCERY I  3778.0        765.0\n",
       " 6662  2017-07-28          8  GROCERY I  4913.0        816.0\n",
       " 6666  2017-07-29          8  GROCERY I  5971.0        856.0\n",
       " 6670  2017-07-30          8  GROCERY I  5962.0        850.0\n",
       " 6674  2017-07-31          8  GROCERY I  4865.0        831.0\n",
       " \n",
       " [1669 rows x 5 columns],\n",
       "             date  store_nbr     family     sales  onpromotion\n",
       " 3     2013-01-01          9  GROCERY I     0.000          0.0\n",
       " 7     2013-01-02          9  GROCERY I  7718.000          0.0\n",
       " 11    2013-01-03          9  GROCERY I  4547.000          0.0\n",
       " 15    2013-01-04          9  GROCERY I  3564.000          0.0\n",
       " 19    2013-01-05          9  GROCERY I  5951.000          0.0\n",
       " ...          ...        ...        ...       ...          ...\n",
       " 6659  2017-07-27          9  GROCERY I  5172.547        714.0\n",
       " 6663  2017-07-28          9  GROCERY I  5379.938        758.0\n",
       " 6667  2017-07-29          9  GROCERY I  7861.719        832.0\n",
       " 6671  2017-07-30          9  GROCERY I  8069.242        813.0\n",
       " 6675  2017-07-31          9  GROCERY I  7676.711        794.0\n",
       " \n",
       " [1669 rows x 5 columns]]"
      ]
     },
     "execution_count": null,
     "metadata": {},
     "output_type": "execute_result"
    }
   ],
   "source": [
    "list_of_trained_df, list_of_tested = split_into_train_test_dataframe(list_of_DataFrames, \"date\", \"2017-08-01\")\n",
    "list_of_trained_df"
   ]
  },
  {
   "cell_type": "markdown",
   "metadata": {},
   "source": [
    "After that, we will convert this DataFrames into TimeSeries objects and save them in their respective lists. "
   ]
  },
  {
   "cell_type": "code",
   "execution_count": null,
   "metadata": {},
   "outputs": [
    {
     "data": {
      "text/plain": [
       "[          date  store_nbr     family   sales  onpromotion\n",
       " 0   2013-01-01          6  GROCERY I     0.0          0.0\n",
       " 4   2013-01-02          6  GROCERY I  5535.0          0.0\n",
       " 8   2013-01-03          6  GROCERY I  4040.0          0.0\n",
       " 12  2013-01-04          6  GROCERY I  3314.0          0.0\n",
       " 16  2013-01-05          6  GROCERY I  4857.0          0.0,\n",
       "           date  store_nbr     family   sales  onpromotion\n",
       " 1   2013-01-01          7  GROCERY I     0.0          0.0\n",
       " 5   2013-01-02          7  GROCERY I  4172.0          0.0\n",
       " 9   2013-01-03          7  GROCERY I  3279.0          0.0\n",
       " 13  2013-01-04          7  GROCERY I  2681.0          0.0\n",
       " 17  2013-01-05          7  GROCERY I  2662.0          0.0,\n",
       "           date  store_nbr     family   sales  onpromotion\n",
       " 2   2013-01-01          8  GROCERY I     0.0          0.0\n",
       " 6   2013-01-02          8  GROCERY I  5277.0          0.0\n",
       " 10  2013-01-03          8  GROCERY I  3783.0          0.0\n",
       " 14  2013-01-04          8  GROCERY I  3481.0          0.0\n",
       " 18  2013-01-05          8  GROCERY I  4857.0          0.0,\n",
       "           date  store_nbr     family   sales  onpromotion\n",
       " 3   2013-01-01          9  GROCERY I     0.0          0.0\n",
       " 7   2013-01-02          9  GROCERY I  7718.0          0.0\n",
       " 11  2013-01-03          9  GROCERY I  4547.0          0.0\n",
       " 15  2013-01-04          9  GROCERY I  3564.0          0.0\n",
       " 19  2013-01-05          9  GROCERY I  5951.0          0.0]"
      ]
     },
     "execution_count": null,
     "metadata": {},
     "output_type": "execute_result"
    }
   ],
   "source": [
    "trained_timeseries, valed_timeseries = converting_dataframes_into_objects(list_of_trained_df, list_of_tested, 'date', 'store_nbr', 'sales')\n",
    "trained_timeseries"
   ]
  },
  {
   "cell_type": "markdown",
   "metadata": {},
   "source": [
    "The last part of the preparation, is to create a dictionary that maps the ID from the TimeSeries object with the ForecastingTask Object. \n"
   ]
  },
  {
   "cell_type": "code",
   "execution_count": null,
   "metadata": {},
   "outputs": [
    {
     "data": {
      "text/plain": [
       "{6: <celverapi.core.ForecastingTask at 0x1b36fdf2b20>,\n",
       " 7: <celverapi.core.ForecastingTask at 0x1b36fdf2af0>,\n",
       " 8: <celverapi.core.ForecastingTask at 0x1b36fdf2a30>,\n",
       " 9: <celverapi.core.ForecastingTask at 0x1b36fdf2f70>}"
      ]
     },
     "execution_count": null,
     "metadata": {},
     "output_type": "execute_result"
    }
   ],
   "source": [
    "dict_of_forecasting_tasks = creating_forecasting_task_dict(trained_timeseries, valed_timeseries, forecast_horizon=15)\n",
    "dict_of_forecasting_tasks"
   ]
  },
  {
   "cell_type": "markdown",
   "metadata": {},
   "source": [
    "To Forecast this TimeSeries, we need to call the forecast() function, where we need to pass a list of the models that we want to use and the Forecasting Task dictionary.\n"
   ]
  },
  {
   "cell_type": "code",
   "execution_count": null,
   "metadata": {},
   "outputs": [],
   "source": [
    "if __name__ == \"__main__\":\n",
    "    final_result = forecast(['ets', 'naive', 'trend'], dict_of_forecasting_tasks)\n",
    "\n",
    "#final_result \n",
    "#Removing DF for index HTML"
   ]
  },
  {
   "cell_type": "markdown",
   "metadata": {},
   "source": [
    "## How to use the Weather API "
   ]
  },
  {
   "cell_type": "code",
   "execution_count": null,
   "metadata": {},
   "outputs": [],
   "source": [
    "from celverapi.weahter import * "
   ]
  },
  {
   "cell_type": "markdown",
   "metadata": {},
   "source": [
    "First of all, you will need to assign your API Key from Visual Crosssing to the ApiKey variable "
   ]
  },
  {
   "cell_type": "code",
   "execution_count": null,
   "metadata": {},
   "outputs": [],
   "source": [
    "ApiKey='37QNHAHY6SEXQ4N3R8MMQYZ3T'"
   ]
  },
  {
   "cell_type": "markdown",
   "metadata": {},
   "source": [
    "In order to get a DataFrame from a particular Weather Forecast, you just need to call the get_forecast() function with the required parameters and assing it to a variable.\n",
    "In this particular example, we are going to get the Weather Forecast for the City of Hamburg from 17-05-2022 until 22-05-2022"
   ]
  },
  {
   "cell_type": "code",
   "execution_count": null,
   "metadata": {},
   "outputs": [
    {
     "data": {
      "text/html": [
       "<div>\n",
       "<style scoped>\n",
       "    .dataframe tbody tr th:only-of-type {\n",
       "        vertical-align: middle;\n",
       "    }\n",
       "\n",
       "    .dataframe tbody tr th {\n",
       "        vertical-align: top;\n",
       "    }\n",
       "\n",
       "    .dataframe thead th {\n",
       "        text-align: right;\n",
       "    }\n",
       "</style>\n",
       "<table border=\"1\" class=\"dataframe\">\n",
       "  <thead>\n",
       "    <tr style=\"text-align: right;\">\n",
       "      <th></th>\n",
       "      <th>datetime</th>\n",
       "      <th>datetimeEpoch</th>\n",
       "      <th>tempmax</th>\n",
       "      <th>tempmin</th>\n",
       "      <th>temp</th>\n",
       "      <th>feelslikemax</th>\n",
       "      <th>feelslikemin</th>\n",
       "      <th>feelslike</th>\n",
       "      <th>dew</th>\n",
       "      <th>humidity</th>\n",
       "      <th>...</th>\n",
       "      <th>sunrise</th>\n",
       "      <th>sunriseEpoch</th>\n",
       "      <th>sunset</th>\n",
       "      <th>sunsetEpoch</th>\n",
       "      <th>moonphase</th>\n",
       "      <th>conditions</th>\n",
       "      <th>description</th>\n",
       "      <th>icon</th>\n",
       "      <th>stations</th>\n",
       "      <th>source</th>\n",
       "    </tr>\n",
       "  </thead>\n",
       "  <tbody>\n",
       "    <tr>\n",
       "      <th>0</th>\n",
       "      <td>2022-05-17</td>\n",
       "      <td>1652738400</td>\n",
       "      <td>18.3</td>\n",
       "      <td>13.3</td>\n",
       "      <td>15.3</td>\n",
       "      <td>18.3</td>\n",
       "      <td>13.3</td>\n",
       "      <td>15.3</td>\n",
       "      <td>13.3</td>\n",
       "      <td>88.1</td>\n",
       "      <td>...</td>\n",
       "      <td>05:16:23</td>\n",
       "      <td>1652757383</td>\n",
       "      <td>21:17:36</td>\n",
       "      <td>1652815056</td>\n",
       "      <td>0.52</td>\n",
       "      <td>Rain, Overcast</td>\n",
       "      <td>Cloudy skies throughout the day with a chance ...</td>\n",
       "      <td>rain</td>\n",
       "      <td>[EDHI, EDDH, EDHL, C7997]</td>\n",
       "      <td>comb</td>\n",
       "    </tr>\n",
       "    <tr>\n",
       "      <th>1</th>\n",
       "      <td>2022-05-18</td>\n",
       "      <td>1652824800</td>\n",
       "      <td>25.3</td>\n",
       "      <td>11.0</td>\n",
       "      <td>17.8</td>\n",
       "      <td>25.3</td>\n",
       "      <td>11.0</td>\n",
       "      <td>17.8</td>\n",
       "      <td>13.8</td>\n",
       "      <td>79.0</td>\n",
       "      <td>...</td>\n",
       "      <td>05:14:51</td>\n",
       "      <td>1652843691</td>\n",
       "      <td>21:19:12</td>\n",
       "      <td>1652901552</td>\n",
       "      <td>0.54</td>\n",
       "      <td>Rain, Partially cloudy</td>\n",
       "      <td>Partly cloudy throughout the day with storms p...</td>\n",
       "      <td>rain</td>\n",
       "      <td>None</td>\n",
       "      <td>fcst</td>\n",
       "    </tr>\n",
       "    <tr>\n",
       "      <th>2</th>\n",
       "      <td>2022-05-19</td>\n",
       "      <td>1652911200</td>\n",
       "      <td>25.2</td>\n",
       "      <td>13.1</td>\n",
       "      <td>18.5</td>\n",
       "      <td>25.2</td>\n",
       "      <td>13.1</td>\n",
       "      <td>18.5</td>\n",
       "      <td>15.9</td>\n",
       "      <td>86.2</td>\n",
       "      <td>...</td>\n",
       "      <td>05:13:20</td>\n",
       "      <td>1652930000</td>\n",
       "      <td>21:20:47</td>\n",
       "      <td>1652988047</td>\n",
       "      <td>0.58</td>\n",
       "      <td>Rain, Overcast</td>\n",
       "      <td>Cloudy skies throughout the day with storms po...</td>\n",
       "      <td>rain</td>\n",
       "      <td>None</td>\n",
       "      <td>fcst</td>\n",
       "    </tr>\n",
       "    <tr>\n",
       "      <th>3</th>\n",
       "      <td>2022-05-20</td>\n",
       "      <td>1652997600</td>\n",
       "      <td>18.6</td>\n",
       "      <td>10.0</td>\n",
       "      <td>14.0</td>\n",
       "      <td>18.6</td>\n",
       "      <td>9.4</td>\n",
       "      <td>13.9</td>\n",
       "      <td>12.1</td>\n",
       "      <td>88.8</td>\n",
       "      <td>...</td>\n",
       "      <td>05:11:52</td>\n",
       "      <td>1653016312</td>\n",
       "      <td>21:22:21</td>\n",
       "      <td>1653074541</td>\n",
       "      <td>0.63</td>\n",
       "      <td>Partially cloudy</td>\n",
       "      <td>Partly cloudy throughout the day.</td>\n",
       "      <td>partly-cloudy-day</td>\n",
       "      <td>None</td>\n",
       "      <td>fcst</td>\n",
       "    </tr>\n",
       "    <tr>\n",
       "      <th>4</th>\n",
       "      <td>2022-05-21</td>\n",
       "      <td>1653084000</td>\n",
       "      <td>16.8</td>\n",
       "      <td>9.1</td>\n",
       "      <td>12.7</td>\n",
       "      <td>16.8</td>\n",
       "      <td>6.8</td>\n",
       "      <td>12.2</td>\n",
       "      <td>10.1</td>\n",
       "      <td>85.1</td>\n",
       "      <td>...</td>\n",
       "      <td>05:10:27</td>\n",
       "      <td>1653102627</td>\n",
       "      <td>21:23:53</td>\n",
       "      <td>1653161033</td>\n",
       "      <td>0.68</td>\n",
       "      <td>Rain, Partially cloudy</td>\n",
       "      <td>Partly cloudy throughout the day with rain in ...</td>\n",
       "      <td>rain</td>\n",
       "      <td>None</td>\n",
       "      <td>fcst</td>\n",
       "    </tr>\n",
       "    <tr>\n",
       "      <th>5</th>\n",
       "      <td>2022-05-22</td>\n",
       "      <td>1653170400</td>\n",
       "      <td>19.8</td>\n",
       "      <td>8.1</td>\n",
       "      <td>13.8</td>\n",
       "      <td>19.8</td>\n",
       "      <td>7.2</td>\n",
       "      <td>13.5</td>\n",
       "      <td>9.0</td>\n",
       "      <td>75.5</td>\n",
       "      <td>...</td>\n",
       "      <td>05:09:04</td>\n",
       "      <td>1653188944</td>\n",
       "      <td>21:25:24</td>\n",
       "      <td>1653247524</td>\n",
       "      <td>0.74</td>\n",
       "      <td>Partially cloudy</td>\n",
       "      <td>Partly cloudy throughout the day.</td>\n",
       "      <td>partly-cloudy-day</td>\n",
       "      <td>None</td>\n",
       "      <td>fcst</td>\n",
       "    </tr>\n",
       "  </tbody>\n",
       "</table>\n",
       "<p>6 rows × 36 columns</p>\n",
       "</div>"
      ],
      "text/plain": [
       "     datetime  datetimeEpoch  tempmax  tempmin  temp  feelslikemax  \\\n",
       "0  2022-05-17     1652738400     18.3     13.3  15.3          18.3   \n",
       "1  2022-05-18     1652824800     25.3     11.0  17.8          25.3   \n",
       "2  2022-05-19     1652911200     25.2     13.1  18.5          25.2   \n",
       "3  2022-05-20     1652997600     18.6     10.0  14.0          18.6   \n",
       "4  2022-05-21     1653084000     16.8      9.1  12.7          16.8   \n",
       "5  2022-05-22     1653170400     19.8      8.1  13.8          19.8   \n",
       "\n",
       "   feelslikemin  feelslike   dew  humidity  ...   sunrise  sunriseEpoch  \\\n",
       "0          13.3       15.3  13.3      88.1  ...  05:16:23    1652757383   \n",
       "1          11.0       17.8  13.8      79.0  ...  05:14:51    1652843691   \n",
       "2          13.1       18.5  15.9      86.2  ...  05:13:20    1652930000   \n",
       "3           9.4       13.9  12.1      88.8  ...  05:11:52    1653016312   \n",
       "4           6.8       12.2  10.1      85.1  ...  05:10:27    1653102627   \n",
       "5           7.2       13.5   9.0      75.5  ...  05:09:04    1653188944   \n",
       "\n",
       "     sunset sunsetEpoch  moonphase              conditions  \\\n",
       "0  21:17:36  1652815056       0.52          Rain, Overcast   \n",
       "1  21:19:12  1652901552       0.54  Rain, Partially cloudy   \n",
       "2  21:20:47  1652988047       0.58          Rain, Overcast   \n",
       "3  21:22:21  1653074541       0.63        Partially cloudy   \n",
       "4  21:23:53  1653161033       0.68  Rain, Partially cloudy   \n",
       "5  21:25:24  1653247524       0.74        Partially cloudy   \n",
       "\n",
       "                                         description               icon  \\\n",
       "0  Cloudy skies throughout the day with a chance ...               rain   \n",
       "1  Partly cloudy throughout the day with storms p...               rain   \n",
       "2  Cloudy skies throughout the day with storms po...               rain   \n",
       "3                  Partly cloudy throughout the day.  partly-cloudy-day   \n",
       "4  Partly cloudy throughout the day with rain in ...               rain   \n",
       "5                  Partly cloudy throughout the day.  partly-cloudy-day   \n",
       "\n",
       "                    stations  source  \n",
       "0  [EDHI, EDDH, EDHL, C7997]    comb  \n",
       "1                       None    fcst  \n",
       "2                       None    fcst  \n",
       "3                       None    fcst  \n",
       "4                       None    fcst  \n",
       "5                       None    fcst  \n",
       "\n",
       "[6 rows x 36 columns]"
      ]
     },
     "execution_count": null,
     "metadata": {},
     "output_type": "execute_result"
    }
   ],
   "source": [
    "dataframe = get_forecast(\"Hamburg\", \"2022-05-17\", \"2022-05-22\")\n",
    "dataframe"
   ]
  }
 ],
 "metadata": {
  "kernelspec": {
   "display_name": "Python 3.9.12 ('base')",
   "language": "python",
   "name": "python3"
  }
 },
 "nbformat": 4,
 "nbformat_minor": 2
}
