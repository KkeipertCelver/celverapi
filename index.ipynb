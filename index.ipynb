{
 "cells": [
  {
   "cell_type": "markdown",
   "metadata": {},
   "source": [
    "# celverapi\n",
    "\n",
    "> Library that allows the user to forecast multipletime Timeseries, parallel, using multiprocessing "
   ]
  },
  {
   "cell_type": "markdown",
   "metadata": {},
   "source": [
    "## Install"
   ]
  },
  {
   "cell_type": "markdown",
   "metadata": {},
   "source": [
    "`pip install celverapi`"
   ]
  },
  {
   "cell_type": "markdown",
   "metadata": {},
   "source": [
    "## How to use"
   ]
  },
  {
   "cell_type": "markdown",
   "metadata": {},
   "source": [
    "In this example we are going to use a DataFrame from 4 different grocery stores. \n",
    "The idea is to Forecast various models, from every single store, simultaneously "
   ]
  },
  {
   "cell_type": "code",
   "execution_count": null,
   "metadata": {},
   "outputs": [],
   "source": [
    "from celverapi.core import *\n",
    "from celverapi.main import *\n",
    "import pandas as pd"
   ]
  },
  {
   "cell_type": "code",
   "execution_count": null,
   "metadata": {},
   "outputs": [
    {
     "data": {
      "text/html": [
       "<div>\n",
       "<style scoped>\n",
       "    .dataframe tbody tr th:only-of-type {\n",
       "        vertical-align: middle;\n",
       "    }\n",
       "\n",
       "    .dataframe tbody tr th {\n",
       "        vertical-align: top;\n",
       "    }\n",
       "\n",
       "    .dataframe thead th {\n",
       "        text-align: right;\n",
       "    }\n",
       "</style>\n",
       "<table border=\"1\" class=\"dataframe\">\n",
       "  <thead>\n",
       "    <tr style=\"text-align: right;\">\n",
       "      <th></th>\n",
       "      <th>date</th>\n",
       "      <th>store_nbr</th>\n",
       "      <th>family</th>\n",
       "      <th>sales</th>\n",
       "      <th>onpromotion</th>\n",
       "    </tr>\n",
       "  </thead>\n",
       "  <tbody>\n",
       "    <tr>\n",
       "      <th>0</th>\n",
       "      <td>2013-01-01</td>\n",
       "      <td>6</td>\n",
       "      <td>GROCERY I</td>\n",
       "      <td>0.0</td>\n",
       "      <td>0.0</td>\n",
       "    </tr>\n",
       "    <tr>\n",
       "      <th>1</th>\n",
       "      <td>2013-01-01</td>\n",
       "      <td>7</td>\n",
       "      <td>GROCERY I</td>\n",
       "      <td>0.0</td>\n",
       "      <td>0.0</td>\n",
       "    </tr>\n",
       "    <tr>\n",
       "      <th>2</th>\n",
       "      <td>2013-01-01</td>\n",
       "      <td>8</td>\n",
       "      <td>GROCERY I</td>\n",
       "      <td>0.0</td>\n",
       "      <td>0.0</td>\n",
       "    </tr>\n",
       "    <tr>\n",
       "      <th>3</th>\n",
       "      <td>2013-01-01</td>\n",
       "      <td>9</td>\n",
       "      <td>GROCERY I</td>\n",
       "      <td>0.0</td>\n",
       "      <td>0.0</td>\n",
       "    </tr>\n",
       "    <tr>\n",
       "      <th>4</th>\n",
       "      <td>2013-01-02</td>\n",
       "      <td>6</td>\n",
       "      <td>GROCERY I</td>\n",
       "      <td>5535.0</td>\n",
       "      <td>0.0</td>\n",
       "    </tr>\n",
       "    <tr>\n",
       "      <th>5</th>\n",
       "      <td>2013-01-02</td>\n",
       "      <td>7</td>\n",
       "      <td>GROCERY I</td>\n",
       "      <td>4172.0</td>\n",
       "      <td>0.0</td>\n",
       "    </tr>\n",
       "    <tr>\n",
       "      <th>6</th>\n",
       "      <td>2013-01-02</td>\n",
       "      <td>8</td>\n",
       "      <td>GROCERY I</td>\n",
       "      <td>5277.0</td>\n",
       "      <td>0.0</td>\n",
       "    </tr>\n",
       "    <tr>\n",
       "      <th>7</th>\n",
       "      <td>2013-01-02</td>\n",
       "      <td>9</td>\n",
       "      <td>GROCERY I</td>\n",
       "      <td>7718.0</td>\n",
       "      <td>0.0</td>\n",
       "    </tr>\n",
       "    <tr>\n",
       "      <th>8</th>\n",
       "      <td>2013-01-03</td>\n",
       "      <td>6</td>\n",
       "      <td>GROCERY I</td>\n",
       "      <td>4040.0</td>\n",
       "      <td>0.0</td>\n",
       "    </tr>\n",
       "    <tr>\n",
       "      <th>9</th>\n",
       "      <td>2013-01-03</td>\n",
       "      <td>7</td>\n",
       "      <td>GROCERY I</td>\n",
       "      <td>3279.0</td>\n",
       "      <td>0.0</td>\n",
       "    </tr>\n",
       "  </tbody>\n",
       "</table>\n",
       "</div>"
      ],
      "text/plain": [
       "         date  store_nbr     family   sales  onpromotion\n",
       "0  2013-01-01          6  GROCERY I     0.0          0.0\n",
       "1  2013-01-01          7  GROCERY I     0.0          0.0\n",
       "2  2013-01-01          8  GROCERY I     0.0          0.0\n",
       "3  2013-01-01          9  GROCERY I     0.0          0.0\n",
       "4  2013-01-02          6  GROCERY I  5535.0          0.0\n",
       "5  2013-01-02          7  GROCERY I  4172.0          0.0\n",
       "6  2013-01-02          8  GROCERY I  5277.0          0.0\n",
       "7  2013-01-02          9  GROCERY I  7718.0          0.0\n",
       "8  2013-01-03          6  GROCERY I  4040.0          0.0\n",
       "9  2013-01-03          7  GROCERY I  3279.0          0.0"
      ]
     },
     "execution_count": null,
     "metadata": {},
     "output_type": "execute_result"
    }
   ],
   "source": [
    "df = pd.read_parquet('Data/example.parquet')\n",
    "df.head(10)"
   ]
  },
  {
   "cell_type": "markdown",
   "metadata": {},
   "source": [
    "Using the function unique_dataframe_values(), we are going to create a list of DataFrames from every unique ID value in the Main DataFrame. \n",
    "In this case, we need a DataFrame from every Store."
   ]
  },
  {
   "cell_type": "code",
   "execution_count": null,
   "metadata": {},
   "outputs": [
    {
     "data": {
      "text/plain": [
       "[            date  store_nbr     family   sales  onpromotion\n",
       " 0     2013-01-01          6  GROCERY I     0.0          0.0\n",
       " 4     2013-01-02          6  GROCERY I  5535.0          0.0\n",
       " 8     2013-01-03          6  GROCERY I  4040.0          0.0\n",
       " 12    2013-01-04          6  GROCERY I  3314.0          0.0\n",
       " 16    2013-01-05          6  GROCERY I  4857.0          0.0\n",
       " ...          ...        ...        ...     ...          ...\n",
       " 6716  2017-08-11          6  GROCERY I  4466.0        776.0\n",
       " 6720  2017-08-12          6  GROCERY I  4027.0        770.0\n",
       " 6724  2017-08-13          6  GROCERY I  5481.0        817.0\n",
       " 6728  2017-08-14          6  GROCERY I  4142.0        773.0\n",
       " 6732  2017-08-15          6  GROCERY I  4334.0        779.0\n",
       " \n",
       " [1684 rows x 5 columns],\n",
       "             date  store_nbr     family   sales  onpromotion\n",
       " 1     2013-01-01          7  GROCERY I     0.0          0.0\n",
       " 5     2013-01-02          7  GROCERY I  4172.0          0.0\n",
       " 9     2013-01-03          7  GROCERY I  3279.0          0.0\n",
       " 13    2013-01-04          7  GROCERY I  2681.0          0.0\n",
       " 17    2013-01-05          7  GROCERY I  2662.0          0.0\n",
       " ...          ...        ...        ...     ...          ...\n",
       " 6717  2017-08-11          7  GROCERY I  3146.0        695.0\n",
       " 6721  2017-08-12          7  GROCERY I  2851.0        723.0\n",
       " 6725  2017-08-13          7  GROCERY I  2864.0        675.0\n",
       " 6729  2017-08-14          7  GROCERY I  3872.0        744.0\n",
       " 6733  2017-08-15          7  GROCERY I  3678.0        737.0\n",
       " \n",
       " [1684 rows x 5 columns],\n",
       "             date  store_nbr     family   sales  onpromotion\n",
       " 2     2013-01-01          8  GROCERY I     0.0          0.0\n",
       " 6     2013-01-02          8  GROCERY I  5277.0          0.0\n",
       " 10    2013-01-03          8  GROCERY I  3783.0          0.0\n",
       " 14    2013-01-04          8  GROCERY I  3481.0          0.0\n",
       " 18    2013-01-05          8  GROCERY I  4857.0          0.0\n",
       " ...          ...        ...        ...     ...          ...\n",
       " 6718  2017-08-11          8  GROCERY I  4318.0        801.0\n",
       " 6722  2017-08-12          8  GROCERY I  4734.0        814.0\n",
       " 6726  2017-08-13          8  GROCERY I  5050.0        842.0\n",
       " 6730  2017-08-14          8  GROCERY I  4354.0        807.0\n",
       " 6734  2017-08-15          8  GROCERY I  4035.0        786.0\n",
       " \n",
       " [1684 rows x 5 columns],\n",
       "             date  store_nbr     family     sales  onpromotion\n",
       " 3     2013-01-01          9  GROCERY I     0.000          0.0\n",
       " 7     2013-01-02          9  GROCERY I  7718.000          0.0\n",
       " 11    2013-01-03          9  GROCERY I  4547.000          0.0\n",
       " 15    2013-01-04          9  GROCERY I  3564.000          0.0\n",
       " 19    2013-01-05          9  GROCERY I  5951.000          0.0\n",
       " ...          ...        ...        ...       ...          ...\n",
       " 6719  2017-08-11          9  GROCERY I  5882.578        784.0\n",
       " 6723  2017-08-12          9  GROCERY I  6686.109        804.0\n",
       " 6727  2017-08-13          9  GROCERY I  6711.156        800.0\n",
       " 6731  2017-08-14          9  GROCERY I  5860.789        773.0\n",
       " 6735  2017-08-15          9  GROCERY I  6630.383        780.0\n",
       " \n",
       " [1684 rows x 5 columns]]"
      ]
     },
     "execution_count": null,
     "metadata": {},
     "output_type": "execute_result"
    }
   ],
   "source": [
    "list_of_DataFrames = unique_dataframe_values('store_nbr')\n",
    "list_of_DataFrames"
   ]
  },
  {
   "cell_type": "markdown",
   "metadata": {},
   "source": [
    "Once we have a list with the DataFrames that we want to work with, we are going to proceed splitting them into a Train and Test DataFrame.\n",
    "In this case the Train DF is going to be from the Start Date until the 31-07-2017."
   ]
  },
  {
   "cell_type": "code",
   "execution_count": null,
   "metadata": {},
   "outputs": [
    {
     "data": {
      "text/plain": [
       "[            date  store_nbr     family   sales  onpromotion\n",
       " 0     2013-01-01          6  GROCERY I     0.0          0.0\n",
       " 4     2013-01-02          6  GROCERY I  5535.0          0.0\n",
       " 8     2013-01-03          6  GROCERY I  4040.0          0.0\n",
       " 12    2013-01-04          6  GROCERY I  3314.0          0.0\n",
       " 16    2013-01-05          6  GROCERY I  4857.0          0.0\n",
       " ...          ...        ...        ...     ...          ...\n",
       " 6656  2017-07-27          6  GROCERY I  3820.0        765.0\n",
       " 6660  2017-07-28          6  GROCERY I  4602.0        807.0\n",
       " 6664  2017-07-29          6  GROCERY I  6050.0        817.0\n",
       " 6668  2017-07-30          6  GROCERY I  6664.0        840.0\n",
       " 6672  2017-07-31          6  GROCERY I  5237.0        806.0\n",
       " \n",
       " [1669 rows x 5 columns],\n",
       "             date  store_nbr     family   sales  onpromotion\n",
       " 1     2013-01-01          7  GROCERY I     0.0          0.0\n",
       " 5     2013-01-02          7  GROCERY I  4172.0          0.0\n",
       " 9     2013-01-03          7  GROCERY I  3279.0          0.0\n",
       " 13    2013-01-04          7  GROCERY I  2681.0          0.0\n",
       " 17    2013-01-05          7  GROCERY I  2662.0          0.0\n",
       " ...          ...        ...        ...     ...          ...\n",
       " 6657  2017-07-27          7  GROCERY I  3552.0        682.0\n",
       " 6661  2017-07-28          7  GROCERY I  3930.0        721.0\n",
       " 6665  2017-07-29          7  GROCERY I  3320.0        704.0\n",
       " 6669  2017-07-30          7  GROCERY I  3776.0        711.0\n",
       " 6673  2017-07-31          7  GROCERY I  4401.0        754.0\n",
       " \n",
       " [1669 rows x 5 columns],\n",
       "             date  store_nbr     family   sales  onpromotion\n",
       " 2     2013-01-01          8  GROCERY I     0.0          0.0\n",
       " 6     2013-01-02          8  GROCERY I  5277.0          0.0\n",
       " 10    2013-01-03          8  GROCERY I  3783.0          0.0\n",
       " 14    2013-01-04          8  GROCERY I  3481.0          0.0\n",
       " 18    2013-01-05          8  GROCERY I  4857.0          0.0\n",
       " ...          ...        ...        ...     ...          ...\n",
       " 6658  2017-07-27          8  GROCERY I  3778.0        765.0\n",
       " 6662  2017-07-28          8  GROCERY I  4913.0        816.0\n",
       " 6666  2017-07-29          8  GROCERY I  5971.0        856.0\n",
       " 6670  2017-07-30          8  GROCERY I  5962.0        850.0\n",
       " 6674  2017-07-31          8  GROCERY I  4865.0        831.0\n",
       " \n",
       " [1669 rows x 5 columns],\n",
       "             date  store_nbr     family     sales  onpromotion\n",
       " 3     2013-01-01          9  GROCERY I     0.000          0.0\n",
       " 7     2013-01-02          9  GROCERY I  7718.000          0.0\n",
       " 11    2013-01-03          9  GROCERY I  4547.000          0.0\n",
       " 15    2013-01-04          9  GROCERY I  3564.000          0.0\n",
       " 19    2013-01-05          9  GROCERY I  5951.000          0.0\n",
       " ...          ...        ...        ...       ...          ...\n",
       " 6659  2017-07-27          9  GROCERY I  5172.547        714.0\n",
       " 6663  2017-07-28          9  GROCERY I  5379.938        758.0\n",
       " 6667  2017-07-29          9  GROCERY I  7861.719        832.0\n",
       " 6671  2017-07-30          9  GROCERY I  8069.242        813.0\n",
       " 6675  2017-07-31          9  GROCERY I  7676.711        794.0\n",
       " \n",
       " [1669 rows x 5 columns]]"
      ]
     },
     "execution_count": null,
     "metadata": {},
     "output_type": "execute_result"
    }
   ],
   "source": [
    "list_of_trained_df, list_of_tested = split_into_train_test_dataframe(list_of_DataFrames, \"date\", \"2017-08-01\")\n",
    "list_of_trained_df"
   ]
  },
  {
   "cell_type": "markdown",
   "metadata": {},
   "source": [
    "After that, we will convert this DataFrames into TimeSeries objects and save them in their respective lists. "
   ]
  },
  {
   "cell_type": "code",
   "execution_count": null,
   "metadata": {},
   "outputs": [
    {
     "data": {
      "text/plain": [
       "[          date  store_nbr     family   sales  onpromotion\n",
       " 0   2013-01-01          6  GROCERY I     0.0          0.0\n",
       " 4   2013-01-02          6  GROCERY I  5535.0          0.0\n",
       " 8   2013-01-03          6  GROCERY I  4040.0          0.0\n",
       " 12  2013-01-04          6  GROCERY I  3314.0          0.0\n",
       " 16  2013-01-05          6  GROCERY I  4857.0          0.0,\n",
       "           date  store_nbr     family   sales  onpromotion\n",
       " 1   2013-01-01          7  GROCERY I     0.0          0.0\n",
       " 5   2013-01-02          7  GROCERY I  4172.0          0.0\n",
       " 9   2013-01-03          7  GROCERY I  3279.0          0.0\n",
       " 13  2013-01-04          7  GROCERY I  2681.0          0.0\n",
       " 17  2013-01-05          7  GROCERY I  2662.0          0.0,\n",
       "           date  store_nbr     family   sales  onpromotion\n",
       " 2   2013-01-01          8  GROCERY I     0.0          0.0\n",
       " 6   2013-01-02          8  GROCERY I  5277.0          0.0\n",
       " 10  2013-01-03          8  GROCERY I  3783.0          0.0\n",
       " 14  2013-01-04          8  GROCERY I  3481.0          0.0\n",
       " 18  2013-01-05          8  GROCERY I  4857.0          0.0,\n",
       "           date  store_nbr     family   sales  onpromotion\n",
       " 3   2013-01-01          9  GROCERY I     0.0          0.0\n",
       " 7   2013-01-02          9  GROCERY I  7718.0          0.0\n",
       " 11  2013-01-03          9  GROCERY I  4547.0          0.0\n",
       " 15  2013-01-04          9  GROCERY I  3564.0          0.0\n",
       " 19  2013-01-05          9  GROCERY I  5951.0          0.0]"
      ]
     },
     "execution_count": null,
     "metadata": {},
     "output_type": "execute_result"
    }
   ],
   "source": [
    "trained_timeseries, valed_timeseries = converting_dataframes_into_objects('date', 'store_nbr', 'sales')\n",
    "trained_timeseries"
   ]
  },
  {
   "cell_type": "markdown",
   "metadata": {},
   "source": [
    "The last part of the preparation, is to create a dictionary that maps the ID from the TimeSeries object with the ForecastingTask Object. \n"
   ]
  },
  {
   "cell_type": "code",
   "execution_count": null,
   "metadata": {},
   "outputs": [
    {
     "data": {
      "text/plain": [
       "{6: <celverapi.core.ForecastingTask at 0x148d64d8400>,\n",
       " 7: <celverapi.core.ForecastingTask at 0x148d64d8460>,\n",
       " 8: <celverapi.core.ForecastingTask at 0x148d64d8880>,\n",
       " 9: <celverapi.core.ForecastingTask at 0x148d64d8790>}"
      ]
     },
     "execution_count": null,
     "metadata": {},
     "output_type": "execute_result"
    }
   ],
   "source": [
    "dict_of_forecasting_tasks = creating_forecasting_task_dict(trained_timeseries, valed_timeseries, forecast_horizon=15)\n",
    "dict_of_forecasting_tasks"
   ]
  },
  {
   "cell_type": "markdown",
   "metadata": {},
   "source": [
    "To Forecast this TimeSeries, we need to call the forecast() function, where we need to pass a list of the models that we want to use and the Forecasting Task dictionary.\n"
   ]
  },
  {
   "cell_type": "code",
   "execution_count": null,
   "metadata": {},
   "outputs": [
    {
     "data": {
      "text/html": [
       "<div>\n",
       "<style scoped>\n",
       "    .dataframe tbody tr th:only-of-type {\n",
       "        vertical-align: middle;\n",
       "    }\n",
       "\n",
       "    .dataframe tbody tr th {\n",
       "        vertical-align: top;\n",
       "    }\n",
       "\n",
       "    .dataframe thead th {\n",
       "        text-align: right;\n",
       "    }\n",
       "</style>\n",
       "<table border=\"1\" class=\"dataframe\">\n",
       "  <thead>\n",
       "    <tr style=\"text-align: right;\">\n",
       "      <th></th>\n",
       "      <th>Qty</th>\n",
       "      <th>ID</th>\n",
       "      <th>Date</th>\n",
       "      <th>Model</th>\n",
       "    </tr>\n",
       "  </thead>\n",
       "  <tbody>\n",
       "    <tr>\n",
       "      <th>8344</th>\n",
       "      <td>5234.366950</td>\n",
       "      <td>6</td>\n",
       "      <td>2017-08-01</td>\n",
       "      <td>ETS-Model</td>\n",
       "    </tr>\n",
       "    <tr>\n",
       "      <th>8348</th>\n",
       "      <td>5234.366950</td>\n",
       "      <td>6</td>\n",
       "      <td>2017-08-02</td>\n",
       "      <td>ETS-Model</td>\n",
       "    </tr>\n",
       "    <tr>\n",
       "      <th>8352</th>\n",
       "      <td>5234.366950</td>\n",
       "      <td>6</td>\n",
       "      <td>2017-08-03</td>\n",
       "      <td>ETS-Model</td>\n",
       "    </tr>\n",
       "    <tr>\n",
       "      <th>8356</th>\n",
       "      <td>5234.366950</td>\n",
       "      <td>6</td>\n",
       "      <td>2017-08-04</td>\n",
       "      <td>ETS-Model</td>\n",
       "    </tr>\n",
       "    <tr>\n",
       "      <th>8360</th>\n",
       "      <td>5234.366950</td>\n",
       "      <td>6</td>\n",
       "      <td>2017-08-05</td>\n",
       "      <td>ETS-Model</td>\n",
       "    </tr>\n",
       "    <tr>\n",
       "      <th>...</th>\n",
       "      <td>...</td>\n",
       "      <td>...</td>\n",
       "      <td>...</td>\n",
       "      <td>...</td>\n",
       "    </tr>\n",
       "    <tr>\n",
       "      <th>8387</th>\n",
       "      <td>17776.977872</td>\n",
       "      <td>9</td>\n",
       "      <td>2017-08-11</td>\n",
       "      <td>Trend Model</td>\n",
       "    </tr>\n",
       "    <tr>\n",
       "      <th>8391</th>\n",
       "      <td>17783.141263</td>\n",
       "      <td>9</td>\n",
       "      <td>2017-08-12</td>\n",
       "      <td>Trend Model</td>\n",
       "    </tr>\n",
       "    <tr>\n",
       "      <th>8395</th>\n",
       "      <td>17789.304655</td>\n",
       "      <td>9</td>\n",
       "      <td>2017-08-13</td>\n",
       "      <td>Trend Model</td>\n",
       "    </tr>\n",
       "    <tr>\n",
       "      <th>8399</th>\n",
       "      <td>17795.468047</td>\n",
       "      <td>9</td>\n",
       "      <td>2017-08-14</td>\n",
       "      <td>Trend Model</td>\n",
       "    </tr>\n",
       "    <tr>\n",
       "      <th>8403</th>\n",
       "      <td>17801.631439</td>\n",
       "      <td>9</td>\n",
       "      <td>2017-08-15</td>\n",
       "      <td>Trend Model</td>\n",
       "    </tr>\n",
       "  </tbody>\n",
       "</table>\n",
       "<p>180 rows × 4 columns</p>\n",
       "</div>"
      ],
      "text/plain": [
       "               Qty  ID        Date        Model\n",
       "8344   5234.366950   6  2017-08-01    ETS-Model\n",
       "8348   5234.366950   6  2017-08-02    ETS-Model\n",
       "8352   5234.366950   6  2017-08-03    ETS-Model\n",
       "8356   5234.366950   6  2017-08-04    ETS-Model\n",
       "8360   5234.366950   6  2017-08-05    ETS-Model\n",
       "...            ...  ..         ...          ...\n",
       "8387  17776.977872   9  2017-08-11  Trend Model\n",
       "8391  17783.141263   9  2017-08-12  Trend Model\n",
       "8395  17789.304655   9  2017-08-13  Trend Model\n",
       "8399  17795.468047   9  2017-08-14  Trend Model\n",
       "8403  17801.631439   9  2017-08-15  Trend Model\n",
       "\n",
       "[180 rows x 4 columns]"
      ]
     },
     "execution_count": null,
     "metadata": {},
     "output_type": "execute_result"
    }
   ],
   "source": [
    "if __name__ == \"__main__\":\n",
    "    final_result = forecast(['ets', 'naive', 'trend'], dict_of_forecasting_tasks)\n",
    "\n",
    "final_result"
   ]
  }
 ],
 "metadata": {
  "kernelspec": {
   "display_name": "Python 3",
   "language": "python",
   "name": "python3"
  }
 },
 "nbformat": 4,
 "nbformat_minor": 2
}
