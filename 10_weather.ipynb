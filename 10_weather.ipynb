{
 "cells": [
  {
   "cell_type": "code",
   "execution_count": null,
   "metadata": {},
   "outputs": [],
   "source": [
    "# default_exp weahter"
   ]
  },
  {
   "cell_type": "markdown",
   "metadata": {},
   "source": [
    "# Weather\n",
    "\n",
    "> API details."
   ]
  },
  {
   "cell_type": "code",
   "execution_count": null,
   "metadata": {},
   "outputs": [],
   "source": [
    "#export\n",
    "\n",
    "from nbdev.showdoc import *\n",
    "import pandas as pd \n",
    "import requests "
   ]
  },
  {
   "cell_type": "code",
   "execution_count": null,
   "metadata": {},
   "outputs": [],
   "source": [
    "#export \n",
    "ApiKey='37QNHAHY6SEXQ4N3R8MMQYZ3T'\n",
    "ContentType=\"json\""
   ]
  },
  {
   "cell_type": "code",
   "execution_count": null,
   "metadata": {},
   "outputs": [],
   "source": [
    "#export \n",
    "\n",
    "\"get_forecast returns a DataFrame from a given Forecast\"\n",
    "\n",
    "def get_forecast(city: str, start_date: str, end_date: str, UnitGroup: str):\n",
    "    \n",
    "    \"The function takes 4 Parameters: *City = The name of the city you want to Forecast (String)  *Start_date = The starting date YYYY-MM-DD (String) *End_date = The ending date YYYY-MM-DD (String) *UnitGroup = metric\"\n",
    "\n",
    "    url = f\"https://weather.visualcrossing.com/VisualCrossingWebServices/rest/services/timeline/{city}/{start_date}/{end_date}?unitGroup={UnitGroup}&include=current&key={ApiKey}&contentType={ContentType}\"\n",
    "    response = requests.get(url).json()\n",
    "\n",
    "    # ---- Converts the JSON response into a Pandas DataFrame\n",
    "    # ---- Every Day is line in the Pandas DataFrame    \n",
    "\n",
    "    df = pd.json_normalize(response['days'])\n",
    "\n",
    "    return df \n",
    "\n",
    "\n"
   ]
  },
  {
   "cell_type": "code",
   "execution_count": null,
   "metadata": {},
   "outputs": [],
   "source": []
  },
  {
   "cell_type": "code",
   "execution_count": null,
   "metadata": {},
   "outputs": [],
   "source": []
  },
  {
   "cell_type": "code",
   "execution_count": null,
   "metadata": {},
   "outputs": [],
   "source": []
  }
 ],
 "metadata": {
  "kernelspec": {
   "display_name": "Python 3",
   "language": "python",
   "name": "python3"
  }
 },
 "nbformat": 4,
 "nbformat_minor": 2
}
