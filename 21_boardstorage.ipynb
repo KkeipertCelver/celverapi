{
 "cells": [
  {
   "cell_type": "code",
   "execution_count": null,
   "metadata": {},
   "outputs": [],
   "source": [
    "# default_exp boardstorage"
   ]
  },
  {
   "cell_type": "markdown",
   "metadata": {},
   "source": [
    "# Board Storage  \n",
    "\n",
    "> API details."
   ]
  },
  {
   "cell_type": "code",
   "execution_count": null,
   "metadata": {},
   "outputs": [
    {
     "name": "stderr",
     "output_type": "stream",
     "text": [
      "c:\\Users\\KevinKeipert\\anaconda3\\lib\\site-packages\\azure\\storage\\common\\_connection.py:82: SyntaxWarning: \"is\" with a literal. Did you mean \"==\"?\n",
      "  self.protocol = self.protocol if parsed_url.scheme is '' else parsed_url.scheme\n"
     ]
    }
   ],
   "source": [
    "#export\n",
    "\n",
    "import logging\n",
    "from azure.storage.file import FileService\n",
    "from datetime import datetime"
   ]
  },
  {
   "cell_type": "code",
   "execution_count": null,
   "metadata": {},
   "outputs": [],
   "source": [
    "#export \n",
    "\n",
    "def human_readable_size(size, decimal_places=2):\n",
    "    for unit in ['B','KiB','MiB','GiB','TiB']:\n",
    "        if size < 1024.0:\n",
    "            break\n",
    "        size /= 1024.0\n",
    "    return f\"{size:.{decimal_places}f}{unit}\"\n",
    "\n",
    "class ClientStorage(): # pylint: disable=too-few-public-methods\n",
    "    \n",
    "    \"\"\"simple client to access and execute basic operations on the Board Shared Storage\"\"\"\n",
    "\n",
    "    def __init__(self, sas_uri):\n",
    "        # split sas uri to get token and account\n",
    "        self.azure_token = sas_uri[sas_uri.find(\"bss?\")+4:]\n",
    "        self.azure_account = sas_uri[8:sas_uri.find(\".file\")]\n",
    "        self.azure_share = \"bss\"\n",
    "        self.azfs = FileService(                     # create file service to access board extractions\n",
    "            account_name=self.azure_account,\n",
    "            sas_token=self.azure_token,\n",
    "            socket_timeout=10\n",
    "        )"
   ]
  },
  {
   "cell_type": "code",
   "execution_count": null,
   "metadata": {},
   "outputs": [],
   "source": [
    "#export \n",
    "\n",
    "def list_directories_and_files(self,azure_dir=None):\n",
    "    \n",
    "    \"\"\"List all files and directories in a Board Shared Storage path\n",
    "    if no path specified, runs at root level\"\"\"\n",
    "    \n",
    "    return self.azfs.list_directories_and_files(self.azure_share,azure_dir)\n"
   ]
  },
  {
   "cell_type": "code",
   "execution_count": null,
   "metadata": {},
   "outputs": [],
   "source": [
    "#export \n",
    "\n",
    "def delete_file(self,azure_file,azure_dir=None):\n",
    "    \n",
    "    \"\"\"Delete a file from the Board Shared Storage\"\"\"\n",
    "    \n",
    "    self.azfs.delete_file(self.azure_share,azure_dir,azure_file)"
   ]
  },
  {
   "cell_type": "code",
   "execution_count": null,
   "metadata": {},
   "outputs": [],
   "source": [
    "#export \n",
    "\n",
    "def download_file(self,azure_file,local_path,azure_dir=None,):\n",
    "    \n",
    "    \"\"\"Download a file from the Board Shared Storage\n",
    "    If content is set to true, return the full content and not just reference to the file\"\"\"\n",
    "    \n",
    "    self.azfs.get_file_to_path(self.azure_share,azure_dir,azure_file,local_path)"
   ]
  },
  {
   "cell_type": "code",
   "execution_count": null,
   "metadata": {},
   "outputs": [],
   "source": [
    "#export \n",
    "\n",
    "def upload_file(self,azure_file,local_path,azure_dir=None):\n",
    "    \n",
    "    self.azfs.create_file_from_path(self.azure_share,azure_dir,azure_file,local_path)"
   ]
  },
  {
   "cell_type": "code",
   "execution_count": null,
   "metadata": {},
   "outputs": [],
   "source": [
    "#export\n",
    "\n",
    "def get_file_size(self,azure_file,azure_dir,readable = True):\n",
    "    \n",
    "    \"\"\"return size in bytes of a file on the Board Shared Storage\n",
    "    if readable set to True, return in a human readable format (e.g. 10GiB)\"\"\"\n",
    "    \n",
    "    fileinfo = self.azfs.get_file_properties(self.azure_share,azure_dir,azure_file)\n",
    "    \n",
    "    if readable:\n",
    "    \n",
    "        return human_readable_size(fileinfo.properties.content_length)\n",
    "    \n",
    "    else:\n",
    "    \n",
    "        return fileinfo.properties.content_length"
   ]
  },
  {
   "cell_type": "code",
   "execution_count": null,
   "metadata": {},
   "outputs": [],
   "source": []
  }
 ],
 "metadata": {
  "kernelspec": {
   "display_name": "Python 3.9.12 ('base')",
   "language": "python",
   "name": "python3"
  }
 },
 "nbformat": 4,
 "nbformat_minor": 2
}
